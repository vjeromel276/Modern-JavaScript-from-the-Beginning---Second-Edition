{
 "cells": [
  {
   "cell_type": "code",
   "execution_count": 2,
   "metadata": {},
   "outputs": [
    {
     "name": "stdout",
     "output_type": "stream",
     "text": [
      "true I can see the ninja.\n"
     ]
    }
   ],
   "source": [
    "var outerValue = \"ninja\";\n",
    "\n",
    "function outerFunction() {\n",
    "\tconsole.log(outerValue === \"ninja\", \"I can see the ninja.\");\n",
    "}\n",
    "\n",
    "outerFunction();\n"
   ]
  },
  {
   "cell_type": "code",
   "execution_count": 9,
   "metadata": {},
   "outputs": [
    {
     "name": "stdout",
     "output_type": "stream",
     "text": [
      "true I can see the samurai.\n",
      "true I can see the ninja.\n"
     ]
    }
   ],
   "source": [
    "var outerValue = \"samurai\";\n",
    "var later;\n",
    "\n",
    "function outerFunction() {\n",
    "\tvar innerValue = \"ninja\";\n",
    "\n",
    "\tfunction innerFunction() {\n",
    "\t\tconsole.log(outerValue === \"samurai\", \"I can see the samurai.\");\n",
    "\t\tconsole.log(innerValue === \"ninja\", \"I can see the ninja.\");\n",
    "\t}\n",
    "\n",
    "\treturn (later = innerFunction);\n",
    "}\n",
    "\n",
    "later = outerFunction();\n",
    "later();\n"
   ]
  },
  {
   "cell_type": "code",
   "execution_count": null,
   "metadata": {},
   "outputs": [],
   "source": []
  }
 ],
 "metadata": {
  "kernelspec": {
   "display_name": "JavaScript",
   "language": "javascript",
   "name": "jslab"
  },
  "language_info": {
   "file_extension": ".js",
   "mimetype": "text/javascript",
   "name": "javascript",
   "version": ""
  }
 },
 "nbformat": 4,
 "nbformat_minor": 2
}

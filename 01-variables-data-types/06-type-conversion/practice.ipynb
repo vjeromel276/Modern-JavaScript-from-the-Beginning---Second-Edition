{
 "cells": [
  {
   "cell_type": "code",
   "execution_count": 9,
   "metadata": {},
   "outputs": [
    {
     "name": "stdout",
     "output_type": "stream",
     "text": [
      "{ y: 2, z: 3 }\n",
      "{ x: 1, y: 2, z: 3 }\n"
     ]
    }
   ],
   "source": [
    "let target = { x: 1 },\n",
    "\tsource = { y: 2, z: 3 };\n",
    "// for (let key of Object.keys(source)) {\n",
    "// \ttarget[key] = source[key];\n",
    "// }\n",
    "// target;\n",
    "\n",
    "Object.assign(target, source);\n",
    "console.log(source);\n",
    "console.log(target);\n"
   ]
  },
  {
   "cell_type": "code",
   "execution_count": 5,
   "metadata": {},
   "outputs": [
    {
     "name": "stderr",
     "output_type": "stream",
     "text": [
      "[object Object]\n",
      "{\"x\":1,\"y\":{\"z\":[false,null,\"\"]}}\n",
      "[object Object]\n"
     ]
    }
   ],
   "source": [
    "let o = { x: 1, y: { z: [false, null, \"\"] } };\n",
    "let s = JSON.stringify(o);\n",
    "let p = JSON.parse(s);\n",
    "console.warn(p + \"\\n\" + s + \"\\n\" + o);\n"
   ]
  },
  {
   "cell_type": "code",
   "execution_count": null,
   "metadata": {},
   "outputs": [],
   "source": []
  }
 ],
 "metadata": {
  "kernelspec": {
   "display_name": "JavaScript",
   "language": "javascript",
   "name": "jslab"
  },
  "language_info": {
   "file_extension": ".js",
   "mimetype": "text/javascript",
   "name": "javascript",
   "version": ""
  }
 },
 "nbformat": 4,
 "nbformat_minor": 2
}

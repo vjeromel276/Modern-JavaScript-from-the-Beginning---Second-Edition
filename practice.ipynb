{
 "cells": [
  {
   "cell_type": "code",
   "execution_count": 11,
   "metadata": {},
   "outputs": [
    {
     "name": "stdout",
     "output_type": "stream",
     "text": [
      "Hello bill, my name is John\n"
     ]
    }
   ],
   "source": [
    "let person = {\n",
    "\tname: \"John\",\n",
    "\taddrssie: \"bill\",\n",
    "\tage: 20,\n",
    "\tgreet: function () {\n",
    "\t\tconsole.log(`Hello ${this.addrssie}, my name is ${this.name}`);\n",
    "\t},\n",
    "};\n",
    "// person.addrssie = \"jimmy\";\n",
    "person.greet(); // Hello, my name is John\n"
   ]
  },
  {
   "cell_type": "code",
   "execution_count": 7,
   "metadata": {},
   "outputs": [
    {
     "name": "stdout",
     "output_type": "stream",
     "text": [
      "123\n",
      "123\n",
      "Symbol(p1)\n"
     ]
    }
   ],
   "source": [
    "const prop_name = \"p1\";\n",
    "function computeName() {\n",
    "\treturn \"p\" + 2;\n",
    "}\n",
    "let o = {};\n",
    "o[prop_name] = 123;\n",
    "console.log(o[prop_name]);\n",
    "console.log(o.p1);\n",
    "\n"
   ]
  },
  {
   "cell_type": "code",
   "execution_count": 15,
   "metadata": {},
   "outputs": [
    {
     "name": "stdout",
     "output_type": "stream",
     "text": [
      "{ x: 1 }\n"
     ]
    }
   ],
   "source": [
    "let b = { x: 1 };\n",
    "let y = { x: 2, ...b };\n",
    "console.log(y);\n"
   ]
  },
  {
   "cell_type": "code",
   "execution_count": 26,
   "metadata": {},
   "outputs": [
    {
     "name": "stdout",
     "output_type": "stream",
     "text": [
      "3\n"
     ]
    }
   ],
   "source": [
    "let o = Object.create({ x: 1 });\n",
    "o.y = 2;\n",
    "console.log(o.x + o.y);\n"
   ]
  },
  {
   "cell_type": "code",
   "execution_count": null,
   "metadata": {},
   "outputs": [],
   "source": []
  }
 ],
 "metadata": {
  "kernelspec": {
   "display_name": "JavaScript",
   "language": "javascript",
   "name": "jslab"
  },
  "language_info": {
   "file_extension": ".js",
   "mimetype": "text/javascript",
   "name": "javascript",
   "version": ""
  }
 },
 "nbformat": 4,
 "nbformat_minor": 2
}
